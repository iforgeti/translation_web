{
 "cells": [
  {
   "cell_type": "code",
   "execution_count": null,
   "metadata": {},
   "outputs": [],
   "source": [
    "import torch\n",
    "\n",
    "emb_dim = 300                \n",
    "hid_dim = 1024              \n",
    "num_layers = 3               \n",
    "dropout_rate = 0.45 \n",
    "\n",
    "\n",
    "param ={\"emb_dim\":emb_dim ,\"hid_dim\":hid_dim ,\"num_layers\":num_layers,\"dropout_rate\" :dropout_rate}\n",
    "\n",
    "torch.save(param,\"param.pt\")\n"
   ]
  },
  {
   "cell_type": "code",
   "execution_count": 5,
   "metadata": {},
   "outputs": [
    {
     "data": {
      "text/plain": [
       "12100"
      ]
     },
     "execution_count": 5,
     "metadata": {},
     "output_type": "execute_result"
    }
   ],
   "source": [
    "import pickle\n",
    "with open(\"models/vocab_en.pkl\",'rb') as f:\n",
    "    vocab_en = pickle.load(f)\n",
    "\n",
    "len(vocab_en)\n"
   ]
  },
  {
   "cell_type": "code",
   "execution_count": null,
   "metadata": {},
   "outputs": [],
   "source": [
    "len(vocab_th)"
   ]
  },
  {
   "cell_type": "code",
   "execution_count": 1,
   "metadata": {},
   "outputs": [
    {
     "name": "stdout",
     "output_type": "stream",
     "text": [
      "def sasa():<br><br>       n=0<br>       return n\n"
     ]
    }
   ],
   "source": [
    "original_str = \"def sasa():\\n\\n       n=0\\n       return n\"\n",
    "modified_str = original_str.replace('\\n', '<br>')\n",
    "print(modified_str)\n"
   ]
  },
  {
   "cell_type": "code",
   "execution_count": 1,
   "metadata": {},
   "outputs": [
    {
     "name": "stderr",
     "output_type": "stream",
     "text": [
      "c:\\Users\\ASUS\\anaconda3\\envs\\torch\\lib\\site-packages\\tqdm\\auto.py:22: TqdmWarning: IProgress not found. Please update jupyter and ipywidgets. See https://ipywidgets.readthedocs.io/en/stable/user_install.html\n",
      "  from .autonotebook import tqdm as notebook_tqdm\n"
     ]
    },
    {
     "name": "stdout",
     "output_type": "stream",
     "text": [
      "{'vocab_size': 52229, 'emb_dim': 150, 'hid_dim': 1024, 'num_layers': 2, 'dropout_rate': 0.4}\n"
     ]
    }
   ],
   "source": [
    "import torch\n",
    "params_path = \"model/params.pt\"\n",
    "params = torch.load(params_path)\n",
    "print(params)"
   ]
  },
  {
   "cell_type": "code",
   "execution_count": 2,
   "metadata": {},
   "outputs": [
    {
     "name": "stdout",
     "output_type": "stream",
     "text": [
      "{'vocab_size': 54996, 'emb_dim': 150, 'hid_dim': 1024, 'num_layers': 2, 'dropout_rate': 0.4}\n"
     ]
    }
   ],
   "source": [
    "\n",
    "params['vocab_size'] = 54996\n",
    "print(params)\n",
    "torch.save(params,params_path)"
   ]
  },
  {
   "cell_type": "code",
   "execution_count": null,
   "metadata": {},
   "outputs": [],
   "source": [
    "vocab_size = len(vocab)\n",
    "emb_dim = 150               # 400 in the paper\n",
    "hid_dim = 1024                # 1150 in the paper\n",
    "num_layers = 2                # 3 in the paper\n",
    "dropout_rate = 0.4              \n",
    "lr = 1e-3  "
   ]
  },
  {
   "cell_type": "code",
   "execution_count": 3,
   "metadata": {},
   "outputs": [
    {
     "data": {
      "text/plain": [
       "'asdssdf sadf'"
      ]
     },
     "execution_count": 3,
     "metadata": {},
     "output_type": "execute_result"
    }
   ],
   "source": [
    "\"asdssdf sadf    \".strip()"
   ]
  }
 ],
 "metadata": {
  "kernelspec": {
   "display_name": "torch",
   "language": "python",
   "name": "python3"
  },
  "language_info": {
   "codemirror_mode": {
    "name": "ipython",
    "version": 3
   },
   "file_extension": ".py",
   "mimetype": "text/x-python",
   "name": "python",
   "nbconvert_exporter": "python",
   "pygments_lexer": "ipython3",
   "version": "3.10.9"
  },
  "orig_nbformat": 4,
  "vscode": {
   "interpreter": {
    "hash": "12b51c3a15c6d04bbe25e0ed0a8589f4bf8f73b3e40dc1f9d202d81fcb7450ab"
   }
  }
 },
 "nbformat": 4,
 "nbformat_minor": 2
}
